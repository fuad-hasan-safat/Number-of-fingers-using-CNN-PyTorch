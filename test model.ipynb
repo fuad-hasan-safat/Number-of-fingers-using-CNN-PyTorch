{
 "cells": [
  {
   "cell_type": "code",
   "execution_count": 1,
   "id": "forbidden-speech",
   "metadata": {},
   "outputs": [],
   "source": [
    "import torch\n",
    "import torch.nn.functional as Func\n",
    "import torch.nn as nn\n",
    "import torchvision\n",
    "from torchvision import datasets, transforms\n",
    "from torchvision.transforms import Compose, ToTensor, Resize\n",
    "from torch.utils.data import DataLoader\n",
    "from torchvision.datasets import ImageFolder\n",
    "import os\n",
    "import copy"
   ]
  },
  {
   "cell_type": "code",
   "execution_count": 2,
   "id": "fluid-vacuum",
   "metadata": {},
   "outputs": [],
   "source": [
    "class MYCNN(nn.Module):\n",
    "    def __init__(self):\n",
    "        super().__init__() \n",
    "        #convolution layer\n",
    "        self.conv1 = nn.Conv2d(in_channels=3, out_channels =32, padding=1, kernel_size=3) \n",
    "        self.pool1 = nn.MaxPool2d(2) \n",
    "        self.conv2 = nn.Conv2d(in_channels=32, out_channels =64, padding=1, kernel_size=3)\n",
    "        self.pool2 = nn.MaxPool2d(2)\n",
    "        self.conv3 = nn.Conv2d(in_channels=64, out_channels =128, padding=1, kernel_size=3)\n",
    "        self.pool3 = nn.MaxPool2d(2) \n",
    "        #fully connected layer\n",
    "        self.fc1 = nn.Linear(128*28*28, 512)\n",
    "        #dropout to reduce overfitting\n",
    "        self.drop = nn.Dropout(0.2) \n",
    "        #output 5 classes\n",
    "        self.out = nn.Linear(512, 5)\n",
    "\n",
    "    def forward(self, x):\n",
    "        x=x\n",
    "        x=self.conv1(x)\n",
    "        x=Func.relu(x)\n",
    "        x=self.pool1(x)\n",
    "        x=self.conv2(x)\n",
    "        x=Func.relu(x)\n",
    "        x=self.pool2(x)\n",
    "        x = self.drop(x)  \n",
    "        x=self.conv3(x)\n",
    "        x=Func.relu(x)\n",
    "        x=self.pool3(x)\n",
    "        \n",
    "        x = x.view(-1, 128*28*28) \n",
    "        x = Func.relu(self.fc1(x))\n",
    "        x = self.drop(x)\n",
    "        x = self.out(x) \n",
    "\n",
    "        return Func.softmax(x, dim=1)"
   ]
  },
  {
   "cell_type": "code",
   "execution_count": 3,
   "id": "catholic-sense",
   "metadata": {},
   "outputs": [
    {
     "data": {
      "text/plain": [
       "<All keys matched successfully>"
      ]
     },
     "execution_count": 3,
     "metadata": {},
     "output_type": "execute_result"
    }
   ],
   "source": [
    "model = MYCNN()\n",
    "device = torch.device(\"cuda\" if torch.cuda.is_available() else \"cpu\")\n",
    "model.to(device)\n",
    "model.load_state_dict(torch.load('handmodel_pytorch_second.pt'))"
   ]
  },
  {
   "cell_type": "code",
   "execution_count": 43,
   "id": "choice-degree",
   "metadata": {},
   "outputs": [],
   "source": [
    "ROOT_DIR2 = 'F://Handproject//test_immage//'\n",
    "BATCH_SIZE = 1\n",
    "mean_nums = [0.485, 0.456, 0.406]\n",
    "std_nums = [0.229, 0.224, 0.225]\n",
    "\n",
    "test_transforms = transforms.Compose([\n",
    "                                      transforms.Resize((224, 224)),\n",
    "                                      transforms.ToTensor(),\n",
    "                                      #transforms.Normalize(mean_nums, std_nums),\n",
    "                                      #transforms.RandomRotation(degrees=15),\n",
    "                                       #transforms.RandomHorizontalFlip(),\n",
    "                                      ])\n",
    "\n",
    "test_datasets = datasets.ImageFolder(ROOT_DIR2, test_transforms)\n",
    "test_dataloaders =torch.utils.data.DataLoader(test_datasets, batch_size=BATCH_SIZE,\n",
    "                                             shuffle=True)\n",
    "dataset_sizes = len(test_datasets)\n"
   ]
  },
  {
   "cell_type": "code",
   "execution_count": 45,
   "id": "taken-brooks",
   "metadata": {
    "scrolled": true
   },
   "outputs": [
    {
     "name": "stdout",
     "output_type": "stream",
     "text": [
      "Original Class: tensor([3], device='cuda:0')\n",
      "Prediction : tensor([3], device='cuda:0')\n",
      "Original Class: tensor([4], device='cuda:0')\n",
      "Prediction : tensor([4], device='cuda:0')\n",
      "Original Class: tensor([5], device='cuda:0')\n",
      "Prediction : tensor([5], device='cuda:0')\n",
      "Original Class: tensor([2], device='cuda:0')\n",
      "Prediction : tensor([2], device='cuda:0')\n",
      "Original Class: tensor([1], device='cuda:0')\n",
      "Prediction : tensor([1], device='cuda:0')\n",
      "Original Class: tensor([3], device='cuda:0')\n",
      "Prediction : tensor([3], device='cuda:0')\n"
     ]
    }
   ],
   "source": [
    "model.eval()\n",
    "with torch.no_grad():\n",
    "    for inputs,labels in test_dataloaders:\n",
    "        #Store in GPU\n",
    "\n",
    "        inputs = inputs.to(device)\n",
    "        labels = labels.to(device)\n",
    "        outputs = model.forward(inputs)\n",
    "        _, preds = torch.max(outputs, 1)\n",
    "        print(f\"Original Class: {labels+1}\")\n",
    "        print(f\"Prediction : {preds+1}\")"
   ]
  },
  {
   "cell_type": "code",
   "execution_count": null,
   "id": "virtual-treat",
   "metadata": {},
   "outputs": [],
   "source": []
  }
 ],
 "metadata": {
  "kernelspec": {
   "display_name": "Python 3",
   "language": "python",
   "name": "python3"
  },
  "language_info": {
   "codemirror_mode": {
    "name": "ipython",
    "version": 3
   },
   "file_extension": ".py",
   "mimetype": "text/x-python",
   "name": "python",
   "nbconvert_exporter": "python",
   "pygments_lexer": "ipython3",
   "version": "3.8.5"
  }
 },
 "nbformat": 4,
 "nbformat_minor": 5
}
